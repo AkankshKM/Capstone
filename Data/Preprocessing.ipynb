{
 "cells": [
  {
   "cell_type": "code",
   "execution_count": 1,
   "metadata": {},
   "outputs": [],
   "source": [
    "%matplotlib inline\n",
    "import datetime\n",
    "from dateutil import parser\n",
    "import pandas as pd\n",
    "import numpy as np\n",
    "import matplotlib.pylab as plt\n",
    "from sklearn.preprocessing import OneHotEncoder\n",
    "from sklearn.compose import ColumnTransformer "
   ]
  },
  {
   "cell_type": "code",
   "execution_count": 2,
   "metadata": {},
   "outputs": [
    {
     "data": {
      "text/plain": [
       "Arrival Date/Time    datetime64[ns]\n",
       "Dispo Date/Time              object\n",
       "Depart Date/Time     datetime64[ns]\n",
       "Disposition                  object\n",
       "ESI Score                     int64\n",
       "dtype: object"
      ]
     },
     "execution_count": 2,
     "metadata": {},
     "output_type": "execute_result"
    }
   ],
   "source": [
    "df = pd.read_csv('Blinded_Data.csv')\n",
    "df.drop(columns=[\"72 Hr Return Time\"],axis=1,inplace=True)\n",
    "df['Arrival Date/Time'] = df['Arrival Date/Time'].astype(str)\n",
    "df['Arrival Date/Time'] = pd.to_datetime(df['Arrival Date/Time'], format=\"%m/%d/%Y %H:%M\")\n",
    "df['Depart Date/Time'] = df['Depart Date/Time'].astype(str)\n",
    "df['Depart Date/Time'] = pd.to_datetime(df['Depart Date/Time'], format=\"%m/%d/%Y %H:%M\")\n",
    "df.dtypes"
   ]
  },
  {
   "cell_type": "code",
   "execution_count": 3,
   "metadata": {},
   "outputs": [
    {
     "data": {
      "text/html": [
       "<div>\n",
       "<style scoped>\n",
       "    .dataframe tbody tr th:only-of-type {\n",
       "        vertical-align: middle;\n",
       "    }\n",
       "\n",
       "    .dataframe tbody tr th {\n",
       "        vertical-align: top;\n",
       "    }\n",
       "\n",
       "    .dataframe thead th {\n",
       "        text-align: right;\n",
       "    }\n",
       "</style>\n",
       "<table border=\"1\" class=\"dataframe\">\n",
       "  <thead>\n",
       "    <tr style=\"text-align: right;\">\n",
       "      <th></th>\n",
       "      <th>Arrival Date/Time</th>\n",
       "      <th>Dispo Date/Time</th>\n",
       "      <th>Depart Date/Time</th>\n",
       "      <th>Disposition</th>\n",
       "      <th>ESI Score</th>\n",
       "    </tr>\n",
       "  </thead>\n",
       "  <tbody>\n",
       "    <tr>\n",
       "      <th>0</th>\n",
       "      <td>2019-02-22 00:02:00</td>\n",
       "      <td>NaN</td>\n",
       "      <td>2019-02-23 16:35:00</td>\n",
       "      <td>Unknown</td>\n",
       "      <td>2</td>\n",
       "    </tr>\n",
       "    <tr>\n",
       "      <th>1</th>\n",
       "      <td>2019-02-22 00:35:00</td>\n",
       "      <td>2/22/2019 3:35</td>\n",
       "      <td>2019-02-22 03:35:00</td>\n",
       "      <td>LWOT</td>\n",
       "      <td>3</td>\n",
       "    </tr>\n",
       "    <tr>\n",
       "      <th>2</th>\n",
       "      <td>2019-02-22 00:44:00</td>\n",
       "      <td>2/22/2019 3:44</td>\n",
       "      <td>2019-02-22 03:44:00</td>\n",
       "      <td>LWOT</td>\n",
       "      <td>3</td>\n",
       "    </tr>\n",
       "    <tr>\n",
       "      <th>3</th>\n",
       "      <td>2019-02-22 00:47:00</td>\n",
       "      <td>2/22/2019 3:47</td>\n",
       "      <td>2019-02-22 03:47:00</td>\n",
       "      <td>LWOT</td>\n",
       "      <td>3</td>\n",
       "    </tr>\n",
       "    <tr>\n",
       "      <th>4</th>\n",
       "      <td>2019-02-22 00:53:00</td>\n",
       "      <td>2/22/2019 3:53</td>\n",
       "      <td>2019-02-22 03:53:00</td>\n",
       "      <td>LWOT</td>\n",
       "      <td>3</td>\n",
       "    </tr>\n",
       "  </tbody>\n",
       "</table>\n",
       "</div>"
      ],
      "text/plain": [
       "    Arrival Date/Time Dispo Date/Time    Depart Date/Time Disposition  \\\n",
       "0 2019-02-22 00:02:00             NaN 2019-02-23 16:35:00     Unknown   \n",
       "1 2019-02-22 00:35:00  2/22/2019 3:35 2019-02-22 03:35:00        LWOT   \n",
       "2 2019-02-22 00:44:00  2/22/2019 3:44 2019-02-22 03:44:00        LWOT   \n",
       "3 2019-02-22 00:47:00  2/22/2019 3:47 2019-02-22 03:47:00        LWOT   \n",
       "4 2019-02-22 00:53:00  2/22/2019 3:53 2019-02-22 03:53:00        LWOT   \n",
       "\n",
       "   ESI Score  \n",
       "0          2  \n",
       "1          3  \n",
       "2          3  \n",
       "3          3  \n",
       "4          3  "
      ]
     },
     "execution_count": 3,
     "metadata": {},
     "output_type": "execute_result"
    }
   ],
   "source": [
    "df.head()"
   ]
  },
  {
   "cell_type": "code",
   "execution_count": 4,
   "metadata": {},
   "outputs": [
    {
     "data": {
      "text/plain": [
       "Arrival Date/Time    datetime64[ns]\n",
       "Dispo Date/Time              object\n",
       "Depart Date/Time     datetime64[ns]\n",
       "Disposition                  object\n",
       "ESI Score                     int64\n",
       "dtype: object"
      ]
     },
     "execution_count": 4,
     "metadata": {},
     "output_type": "execute_result"
    }
   ],
   "source": [
    "df.dtypes"
   ]
  },
  {
   "cell_type": "code",
   "execution_count": 5,
   "metadata": {},
   "outputs": [
    {
     "data": {
      "text/plain": [
       "Timestamp('2019-02-22 00:02:00')"
      ]
     },
     "execution_count": 5,
     "metadata": {},
     "output_type": "execute_result"
    }
   ],
   "source": [
    "df.iloc[0]['Arrival Date/Time']"
   ]
  },
  {
   "cell_type": "code",
   "execution_count": 6,
   "metadata": {},
   "outputs": [],
   "source": [
    "# cp = df[df['Arrival Date/Time']>=df.iloc[0]['Arrival Date/Time']]"
   ]
  },
  {
   "cell_type": "code",
   "execution_count": 7,
   "metadata": {},
   "outputs": [],
   "source": [
    "# cp = df[df['Depart Date/Time']<=df.iloc[0]['Depart Date/Time']]"
   ]
  },
  {
   "cell_type": "code",
   "execution_count": 8,
   "metadata": {},
   "outputs": [],
   "source": [
    "# len(cp)\n",
    "df['PatientCount']=None\n",
    "# df"
   ]
  },
  {
   "cell_type": "code",
   "execution_count": 9,
   "metadata": {},
   "outputs": [],
   "source": [
    "for i in range(len(df)):\n",
    "    cp = None\n",
    "    cp = df[df['Arrival Date/Time']<=df.iloc[i]['Depart Date/Time']]\n",
    "    cp = cp[cp['Arrival Date/Time']>=df.iloc[i]['Arrival Date/Time']]\n",
    "    df.iloc[i, df.columns.get_loc('PatientCount')] = len(cp)\n",
    "    "
   ]
  },
  {
   "cell_type": "code",
   "execution_count": 10,
   "metadata": {},
   "outputs": [
    {
     "data": {
      "text/html": [
       "<div>\n",
       "<style scoped>\n",
       "    .dataframe tbody tr th:only-of-type {\n",
       "        vertical-align: middle;\n",
       "    }\n",
       "\n",
       "    .dataframe tbody tr th {\n",
       "        vertical-align: top;\n",
       "    }\n",
       "\n",
       "    .dataframe thead th {\n",
       "        text-align: right;\n",
       "    }\n",
       "</style>\n",
       "<table border=\"1\" class=\"dataframe\">\n",
       "  <thead>\n",
       "    <tr style=\"text-align: right;\">\n",
       "      <th></th>\n",
       "      <th>Arrival Date/Time</th>\n",
       "      <th>Dispo Date/Time</th>\n",
       "      <th>Depart Date/Time</th>\n",
       "      <th>Disposition</th>\n",
       "      <th>ESI Score</th>\n",
       "      <th>PatientCount</th>\n",
       "    </tr>\n",
       "  </thead>\n",
       "  <tbody>\n",
       "    <tr>\n",
       "      <th>56830</th>\n",
       "      <td>2020-04-07 23:06:00</td>\n",
       "      <td>NaN</td>\n",
       "      <td>2020-04-10 21:38:00</td>\n",
       "      <td>Transferred</td>\n",
       "      <td>2</td>\n",
       "      <td>5</td>\n",
       "    </tr>\n",
       "    <tr>\n",
       "      <th>56831</th>\n",
       "      <td>2020-04-07 23:16:00</td>\n",
       "      <td>4/8/2020 5:04</td>\n",
       "      <td>2020-04-08 14:52:00</td>\n",
       "      <td>Discharge</td>\n",
       "      <td>2</td>\n",
       "      <td>4</td>\n",
       "    </tr>\n",
       "    <tr>\n",
       "      <th>56832</th>\n",
       "      <td>2020-04-07 23:33:00</td>\n",
       "      <td>4/8/2020 2:23</td>\n",
       "      <td>2020-04-08 02:37:00</td>\n",
       "      <td>Discharge</td>\n",
       "      <td>3</td>\n",
       "      <td>3</td>\n",
       "    </tr>\n",
       "    <tr>\n",
       "      <th>56833</th>\n",
       "      <td>2020-04-07 23:33:00</td>\n",
       "      <td>4/8/2020 3:30</td>\n",
       "      <td>2020-04-08 03:37:00</td>\n",
       "      <td>Discharge</td>\n",
       "      <td>3</td>\n",
       "      <td>3</td>\n",
       "    </tr>\n",
       "    <tr>\n",
       "      <th>56834</th>\n",
       "      <td>2020-04-07 23:45:00</td>\n",
       "      <td>4/8/2020 1:24</td>\n",
       "      <td>2020-04-08 03:02:00</td>\n",
       "      <td>Admitted</td>\n",
       "      <td>1</td>\n",
       "      <td>1</td>\n",
       "    </tr>\n",
       "  </tbody>\n",
       "</table>\n",
       "</div>"
      ],
      "text/plain": [
       "        Arrival Date/Time Dispo Date/Time    Depart Date/Time  Disposition  \\\n",
       "56830 2020-04-07 23:06:00             NaN 2020-04-10 21:38:00  Transferred   \n",
       "56831 2020-04-07 23:16:00   4/8/2020 5:04 2020-04-08 14:52:00    Discharge   \n",
       "56832 2020-04-07 23:33:00   4/8/2020 2:23 2020-04-08 02:37:00    Discharge   \n",
       "56833 2020-04-07 23:33:00   4/8/2020 3:30 2020-04-08 03:37:00    Discharge   \n",
       "56834 2020-04-07 23:45:00   4/8/2020 1:24 2020-04-08 03:02:00     Admitted   \n",
       "\n",
       "       ESI Score PatientCount  \n",
       "56830          2            5  \n",
       "56831          2            4  \n",
       "56832          3            3  \n",
       "56833          3            3  \n",
       "56834          1            1  "
      ]
     },
     "execution_count": 10,
     "metadata": {},
     "output_type": "execute_result"
    }
   ],
   "source": [
    "df.tail()"
   ]
  },
  {
   "cell_type": "code",
   "execution_count": 11,
   "metadata": {},
   "outputs": [],
   "source": [
    "df.to_csv('new1.csv')"
   ]
  },
  {
   "cell_type": "code",
   "execution_count": null,
   "metadata": {},
   "outputs": [],
   "source": []
  }
 ],
 "metadata": {
  "kernelspec": {
   "display_name": "Python 3",
   "language": "python",
   "name": "python3"
  },
  "language_info": {
   "codemirror_mode": {
    "name": "ipython",
    "version": 3
   },
   "file_extension": ".py",
   "mimetype": "text/x-python",
   "name": "python",
   "nbconvert_exporter": "python",
   "pygments_lexer": "ipython3",
   "version": "3.7.6"
  }
 },
 "nbformat": 4,
 "nbformat_minor": 4
}
